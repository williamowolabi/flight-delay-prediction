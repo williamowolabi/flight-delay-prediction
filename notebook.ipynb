{
 "cells": [
  {
   "cell_type": "code",
   "execution_count": 1,
   "id": "1f55c835",
   "metadata": {},
   "outputs": [
    {
     "name": "stdout",
     "output_type": "stream",
     "text": [
      "✅ Project structure created.\n"
     ]
    }
   ],
   "source": [
    "import os\n",
    "\n",
    "# Project folders\n",
    "folders = [\n",
    "    \"data/raw\", \"data/processed\",\n",
    "    \"db\",\n",
    "    \"notebooks\",\n",
    "    \"src\",\n",
    "    \"dashboards\",\n",
    "    \"models\",\n",
    "    \"reports/figures\"\n",
    "]\n",
    "\n",
    "for folder in folders:\n",
    "    os.makedirs(folder, exist_ok=True)\n",
    "\n",
    "# Create placeholder files\n",
    "open(\"README.md\", \"w\").write(\"# Flight Delay Prediction\\n\\nPredicting US flight delays using BTS data.\")\n",
    "open(\"requirements.txt\", \"w\").write(\"pandas\\nnumpy\\nscikit-learn\\nmatplotlib\\nseaborn\\nxgboost\\nsqlalchemy\\npython-dotenv\\n\")\n",
    "\n",
    "print(\"✅ Project structure created.\")\n"
   ]
  },
  {
   "cell_type": "code",
   "execution_count": 7,
   "id": "39af7587",
   "metadata": {},
   "outputs": [
    {
     "name": "stdout",
     "output_type": "stream",
     "text": [
      "Reinitialized existing Git repository in /Users/willowolabi/Desktop/Python /.git/\n",
      "[main 237454a] Day 1: Initial project setup\n",
      " 5 files changed, 46 insertions(+), 1615 deletions(-)\n",
      " delete mode 100644 Chapter 2 end to end machine learning .ipynb\n",
      " delete mode 100644 Support Vector Machines Chapter 5 .ipynb\n",
      " delete mode 100644 classification chapter 3 .ipynb\n"
     ]
    }
   ],
   "source": [
    "!git init\n",
    "!git config --global user.name \"williamowolabi\"\n",
    "!git config --global user.email \"william.owolabi@gmail.com\"\n",
    "!git add .\n",
    "!git commit -m \"Day 1: Initial project setup\"\n"
   ]
  },
  {
   "cell_type": "code",
   "execution_count": 8,
   "id": "96665595",
   "metadata": {},
   "outputs": [
    {
     "name": "stdout",
     "output_type": "stream",
     "text": [
      "error: remote origin already exists.\n",
      "Enumerating objects: 7, done.\n",
      "Counting objects: 100% (7/7), done.\n",
      "Delta compression using up to 8 threads\n",
      "Compressing objects: 100% (4/4), done.\n",
      "Writing objects: 100% (4/4), 1.51 KiB | 1.51 MiB/s, done.\n",
      "Total 4 (delta 2), reused 0 (delta 0), pack-reused 0\n",
      "remote: Resolving deltas: 100% (2/2), completed with 2 local objects.\u001b[K\n",
      "To https://github.com/williamowolabi/flight-delay-prediction.git\n",
      "   8129322..237454a  main -> main\n",
      "branch 'main' set up to track 'origin/main'.\n"
     ]
    }
   ],
   "source": [
    "!git remote add origin https://github.com/williamowolabi/flight-delay-prediction.git\n",
    "!git branch -M main\n",
    "!git push -u origin main\n"
   ]
  },
  {
   "cell_type": "code",
   "execution_count": 9,
   "id": "9d7316b3",
   "metadata": {},
   "outputs": [
    {
     "name": "stdout",
     "output_type": "stream",
     "text": [
      "[main 40c98ed] Added sample raw data\n",
      " 1 file changed, 201 insertions(+)\n",
      " create mode 100644 data/raw/sample_flight_data.csv\n",
      "Enumerating objects: 6, done.\n",
      "Counting objects: 100% (6/6), done.\n",
      "Delta compression using up to 8 threads\n",
      "Compressing objects: 100% (4/4), done.\n",
      "Writing objects: 100% (5/5), 1.82 KiB | 1.82 MiB/s, done.\n",
      "Total 5 (delta 1), reused 0 (delta 0), pack-reused 0\n",
      "remote: Resolving deltas: 100% (1/1), completed with 1 local object.\u001b[K\n",
      "To https://github.com/williamowolabi/flight-delay-prediction.git\n",
      "   237454a..40c98ed  main -> main\n"
     ]
    }
   ],
   "source": [
    "import pandas as pd\n",
    "\n",
    "url = \"https://people.sc.fsu.edu/~jburkardt/data/csv/hw_200.csv\"  # placeholder CSV\n",
    "df = pd.read_csv(url)\n",
    "df.to_csv(\"data/raw/sample_flight_data.csv\", index=False)\n",
    "\n",
    "!git add .\n",
    "!git commit -m \"Added sample raw data\"\n",
    "!git push\n"
   ]
  },
  {
   "cell_type": "code",
   "execution_count": 47,
   "id": "0f8bd2f1",
   "metadata": {},
   "outputs": [
    {
     "name": "stdout",
     "output_type": "stream",
     "text": [
      "✅ Old database removed.\n",
      "✅ New flights table created successfully.\n"
     ]
    }
   ],
   "source": [
    "import os\n",
    "import sqlite3\n",
    "\n",
    "# Delete old database if it exists\n",
    "if os.path.exists(\"db/flights.db\"):\n",
    "    os.remove(\"db/flights.db\")\n",
    "    print(\"✅ Old database removed.\")\n",
    "\n",
    "# Create new database\n",
    "conn = sqlite3.connect(\"db/flights.db\")\n",
    "cursor = conn.cursor()\n",
    "\n",
    "# Create table with correct uppercase column names matching CSV\n",
    "cursor.execute(\"\"\"\n",
    "CREATE TABLE flights (\n",
    "    FL_DATE TEXT,\n",
    "    OP_UNIQUE_CARRIER TEXT,\n",
    "    OP_CARRIER_FL_NUM INTEGER,\n",
    "    ORIGIN TEXT,\n",
    "    DEST TEXT,\n",
    "    CRS_DEP_TIME INTEGER,\n",
    "    DEP_TIME INTEGER,\n",
    "    DEP_DELAY REAL,\n",
    "    CRS_ARR_TIME INTEGER,\n",
    "    ARR_TIME INTEGER,\n",
    "    ARR_DELAY REAL,\n",
    "    CANCELLED INTEGER,\n",
    "    DIVERTED INTEGER\n",
    ")\n",
    "\"\"\")\n",
    "conn.commit()\n",
    "conn.close()\n",
    "print(\"✅ New flights table created successfully.\")\n"
   ]
  },
  {
   "cell_type": "code",
   "execution_count": 48,
   "id": "21f7aa1d",
   "metadata": {},
   "outputs": [
    {
     "name": "stdout",
     "output_type": "stream",
     "text": [
      "Loading data/raw/sample.csv ...\n",
      "✅ All CSVs loaded into SQLite successfully.\n"
     ]
    }
   ],
   "source": [
    "import pandas as pd\n",
    "import glob\n",
    "import sqlite3\n",
    "\n",
    "conn = sqlite3.connect(\"db/flights.db\")\n",
    "\n",
    "# Exact columns to match CSV and table\n",
    "table_cols = ['FL_DATE','OP_UNIQUE_CARRIER','OP_CARRIER_FL_NUM',\n",
    "              'ORIGIN','DEST','CRS_DEP_TIME','DEP_TIME','DEP_DELAY',\n",
    "              'CRS_ARR_TIME','ARR_TIME','ARR_DELAY','CANCELLED','DIVERTED']\n",
    "\n",
    "for file in glob.glob(\"data/raw/*.csv\"):\n",
    "    print(f\"Loading {file} ...\")\n",
    "    for chunk in pd.read_csv(file, chunksize=100_000):\n",
    "        # Only keep columns that exist in the table\n",
    "        chunk = chunk[[c for c in table_cols if c in chunk.columns]]\n",
    "\n",
    "        # Skip empty chunks\n",
    "        if not chunk.empty:\n",
    "            chunk.to_sql('flights', conn, if_exists='append', index=False)\n",
    "\n",
    "conn.close()\n",
    "print(\"✅ All CSVs loaded into SQLite successfully.\")\n"
   ]
  },
  {
   "cell_type": "code",
   "execution_count": 56,
   "id": "e2739178",
   "metadata": {},
   "outputs": [
    {
     "name": "stdout",
     "output_type": "stream",
     "text": [
      "fatal: pathspec 'notebook.ipynb/' did not match any files\n",
      "On branch main\n",
      "Your branch is up to date with 'origin/main'.\n",
      "\n",
      "Changes not staged for commit:\n",
      "  (use \"git add/rm <file>...\" to update what will be committed)\n",
      "  (use \"git restore <file>...\" to discard changes in working directory)\n",
      "\t\u001b[31mmodified:   .DS_Store\u001b[m\n",
      "\t\u001b[31mdeleted:    .ipynb_checkpoints/Untitled-checkpoint.ipynb\u001b[m\n",
      "\t\u001b[31mdeleted:    Untitled.ipynb\u001b[m\n",
      "\t\u001b[31mdeleted:    data/raw/sample_flight_data.csv\u001b[m\n",
      "\n",
      "Untracked files:\n",
      "  (use \"git add <file>...\" to include in what will be committed)\n",
      "\t\u001b[31m.ipynb_checkpoints/notebook-checkpoint.ipynb\u001b[m\n",
      "\t\u001b[31mdata/raw/sample.csv\u001b[m\n",
      "\t\u001b[31mdb/\u001b[m\n",
      "\t\u001b[31mnotebook.ipynb\u001b[m\n",
      "\n",
      "no changes added to commit (use \"git add\" and/or \"git commit -a\")\n",
      "Everything up-to-date\n"
     ]
    }
   ],
   "source": [
    "!git add notebook.ipynb/ data/raw/\n",
    "!git commit -m \"Add Day 2 flight ETL workflow\"\n",
    "!git push origin main\n"
   ]
  },
  {
   "cell_type": "code",
   "execution_count": 57,
   "id": "b045876e",
   "metadata": {},
   "outputs": [
    {
     "ename": "SyntaxError",
     "evalue": "invalid syntax (3646512238.py, line 2)",
     "output_type": "error",
     "traceback": [
      "\u001b[0;36m  Cell \u001b[0;32mIn[57], line 2\u001b[0;36m\u001b[0m\n\u001b[0;31m    git add notebook.ipynb\u001b[0m\n\u001b[0m        ^\u001b[0m\n\u001b[0;31mSyntaxError\u001b[0m\u001b[0;31m:\u001b[0m invalid syntax\n"
     ]
    }
   ],
   "source": [
    "# Stage the notebook, CSV, and any scripts\n",
    "git add notebook.ipynb\n",
    "git add data/raw/sample.csv\n",
    "# Optionally, stage db if you want to commit the SQLite file\n",
    "# git add db/flights.db\n"
   ]
  },
  {
   "cell_type": "code",
   "execution_count": null,
   "id": "281797b7",
   "metadata": {},
   "outputs": [],
   "source": []
  }
 ],
 "metadata": {
  "kernelspec": {
   "display_name": "Python 3 (ipykernel)",
   "language": "python",
   "name": "python3"
  },
  "language_info": {
   "codemirror_mode": {
    "name": "ipython",
    "version": 3
   },
   "file_extension": ".py",
   "mimetype": "text/x-python",
   "name": "python",
   "nbconvert_exporter": "python",
   "pygments_lexer": "ipython3",
   "version": "3.10.15"
  }
 },
 "nbformat": 4,
 "nbformat_minor": 5
}
