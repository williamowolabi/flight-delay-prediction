{
 "cells": [
  {
   "cell_type": "code",
   "execution_count": 1,
   "id": "37fa090b",
   "metadata": {},
   "outputs": [
    {
     "name": "stdout",
     "output_type": "stream",
     "text": [
      "✅ Project structure created.\n"
     ]
    }
   ],
   "source": [
    "import os\n",
    "\n",
    "# Project folders\n",
    "folders = [\n",
    "    \"data/raw\", \"data/processed\",\n",
    "    \"db\",\n",
    "    \"notebooks\",\n",
    "    \"src\",\n",
    "    \"dashboards\",\n",
    "    \"models\",\n",
    "    \"reports/figures\"\n",
    "]\n",
    "\n",
    "for folder in folders:\n",
    "    os.makedirs(folder, exist_ok=True)\n",
    "\n",
    "# Create placeholder files\n",
    "open(\"README.md\", \"w\").write(\"# Flight Delay Prediction\\n\\nPredicting US flight delays using BTS data.\")\n",
    "open(\"requirements.txt\", \"w\").write(\"pandas\\nnumpy\\nscikit-learn\\nmatplotlib\\nseaborn\\nxgboost\\nsqlalchemy\\npython-dotenv\\n\")\n",
    "\n",
    "print(\"✅ Project structure created.\")\n"
   ]
  },
  {
   "cell_type": "code",
   "execution_count": 4,
   "id": "60c745f8",
   "metadata": {},
   "outputs": [
    {
     "name": "stdout",
     "output_type": "stream",
     "text": [
      "Reinitialized existing Git repository in /Users/willowolabi/Desktop/Python /.git/\n",
      "error: 'server/' does not have a commit checked out\n",
      "fatal: adding files failed\n",
      "On branch main\n",
      "\n",
      "Initial commit\n",
      "\n",
      "Untracked files:\n",
      "  (use \"git add <file>...\" to include in what will be committed)\n",
      "\t\u001b[31m Salary_data_cleaning.csv\u001b[m\n",
      "\t\u001b[31m.DS_Store\u001b[m\n",
      "\t\u001b[31m.ipynb_checkpoints/\u001b[m\n",
      "\t\u001b[31mBengaluru_House_Data.csv\u001b[m\n",
      "\t\u001b[31mBengaluru_House_Data.csv.csv\u001b[m\n",
      "\t\u001b[31mBengaluru_House_Data.numbers\u001b[m\n",
      "\t\u001b[31mChapter 2 end to end machine learning .ipynb\u001b[m\n",
      "\t\u001b[31mClient/\u001b[m\n",
      "\t\u001b[31mE-Commerce DATA.ipynb\u001b[m\n",
      "\t\u001b[31mE-Commerce DATA.pdf\u001b[m\n",
      "\t\u001b[31mExploratorydata.ipynb\u001b[m\n",
      "\t\u001b[31mOnline Retail 3.csv\u001b[m\n",
      "\t\u001b[31mREADME.md\u001b[m\n",
      "\t\u001b[31mSalary_data_cleaning.csv\u001b[m\n",
      "\t\u001b[31mSupport Vector Machines Chapter 5 .ipynb\u001b[m\n",
      "\t\u001b[31mUntitled.ipynb\u001b[m\n",
      "\t\u001b[31mbanglore_home_prices_model.pickle\u001b[m\n",
      "\t\u001b[31mclassification chapter 3 .ipynb\u001b[m\n",
      "\t\u001b[31mcolumns.json\u001b[m\n",
      "\t\u001b[31mdatacleaning .ipynb\u001b[m\n",
      "\t\u001b[31mdatasets/\u001b[m\n",
      "\t\u001b[31mglassdoor_jobs.csv\u001b[m\n",
      "\t\u001b[31mrequirements.txt\u001b[m\n",
      "\t\u001b[31mserver/\u001b[m\n",
      "\n",
      "nothing added to commit but untracked files present (use \"git add\" to track)\n"
     ]
    }
   ],
   "source": [
    "!git init\n",
    "!git config --global user.name \"williamowolabi\"\n",
    "!git config --global user.email \"william.owolabi@gmail.com\"\n",
    "!git add .\n",
    "!git commit -m \"Day 1: Initial project setup\"\n"
   ]
  },
  {
   "cell_type": "code",
   "execution_count": null,
   "id": "ded9f010",
   "metadata": {},
   "outputs": [],
   "source": []
  }
 ],
 "metadata": {
  "kernelspec": {
   "display_name": "Python 3 (ipykernel)",
   "language": "python",
   "name": "python3"
  },
  "language_info": {
   "codemirror_mode": {
    "name": "ipython",
    "version": 3
   },
   "file_extension": ".py",
   "mimetype": "text/x-python",
   "name": "python",
   "nbconvert_exporter": "python",
   "pygments_lexer": "ipython3",
   "version": "3.10.15"
  }
 },
 "nbformat": 4,
 "nbformat_minor": 5
}
