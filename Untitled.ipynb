{
 "cells": [
  {
   "cell_type": "code",
   "execution_count": 1,
   "id": "2e693e93",
   "metadata": {},
   "outputs": [
    {
     "name": "stdout",
     "output_type": "stream",
     "text": [
      "✅ Project structure created.\n"
     ]
    }
   ],
   "source": [
    "import os\n",
    "\n",
    "# Project folders\n",
    "folders = [\n",
    "    \"data/raw\", \"data/processed\",\n",
    "    \"db\",\n",
    "    \"notebooks\",\n",
    "    \"src\",\n",
    "    \"dashboards\",\n",
    "    \"models\",\n",
    "    \"reports/figures\"\n",
    "]\n",
    "\n",
    "for folder in folders:\n",
    "    os.makedirs(folder, exist_ok=True)\n",
    "\n",
    "# Create placeholder files\n",
    "open(\"README.md\", \"w\").write(\"# Flight Delay Prediction\\n\\nPredicting US flight delays using BTS data.\")\n",
    "open(\"requirements.txt\", \"w\").write(\"pandas\\nnumpy\\nscikit-learn\\nmatplotlib\\nseaborn\\nxgboost\\nsqlalchemy\\npython-dotenv\\n\")\n",
    "\n",
    "print(\"✅ Project structure created.\")\n"
   ]
  },
  {
   "cell_type": "code",
   "execution_count": 5,
   "id": "db39a903",
   "metadata": {},
   "outputs": [
    {
     "name": "stdout",
     "output_type": "stream",
     "text": [
      "Reinitialized existing Git repository in /Users/willowolabi/Desktop/Python /.git/\n",
      "[main (root-commit) 8129322] Day 1: Initial project setup\n",
      " 11 files changed, 3078 insertions(+)\n",
      " create mode 100644 .DS_Store\n",
      " create mode 100644 .ipynb_checkpoints/Chapter 2 end to end machine learning -checkpoint.ipynb\n",
      " create mode 100644 .ipynb_checkpoints/Support Vector Machines Chapter 5 -checkpoint.ipynb\n",
      " create mode 100644 .ipynb_checkpoints/Untitled-checkpoint.ipynb\n",
      " create mode 100644 .ipynb_checkpoints/classification chapter 3 -checkpoint.ipynb\n",
      " create mode 100644 Chapter 2 end to end machine learning .ipynb\n",
      " create mode 100644 README.md\n",
      " create mode 100644 Support Vector Machines Chapter 5 .ipynb\n",
      " create mode 100644 Untitled.ipynb\n",
      " create mode 100644 classification chapter 3 .ipynb\n",
      " create mode 100644 requirements.txt\n"
     ]
    }
   ],
   "source": [
    "!git init\n",
    "!git config --global user.name \"williamowolabi\"\n",
    "!git config --global user.email \"william.owolabi@gmail.com\"\n",
    "!git add .\n",
    "!git commit -m \"Day 1: Initial project setup\"\n"
   ]
  },
  {
   "cell_type": "code",
   "execution_count": 6,
   "id": "40a37220",
   "metadata": {},
   "outputs": [
    {
     "name": "stdout",
     "output_type": "stream",
     "text": [
      "Enumerating objects: 12, done.\n",
      "Counting objects: 100% (12/12), done.\n",
      "Delta compression using up to 8 threads\n",
      "Compressing objects: 100% (12/12), done.\n",
      "Writing objects: 100% (12/12), 656.49 KiB | 16.83 MiB/s, done.\n",
      "Total 12 (delta 1), reused 0 (delta 0), pack-reused 0\n",
      "remote: Resolving deltas: 100% (1/1), done.\u001b[K\n",
      "To https://github.com/williamowolabi/flight-delay-prediction.git\n",
      " * [new branch]      main -> main\n",
      "branch 'main' set up to track 'origin/main'.\n"
     ]
    }
   ],
   "source": [
    "!git remote add origin https://github.com/williamowolabi/flight-delay-prediction.git\n",
    "!git branch -M main\n",
    "!git push -u origin main\n"
   ]
  },
  {
   "cell_type": "code",
   "execution_count": null,
   "id": "3f78bf92",
   "metadata": {},
   "outputs": [],
   "source": []
  }
 ],
 "metadata": {
  "kernelspec": {
   "display_name": "Python 3 (ipykernel)",
   "language": "python",
   "name": "python3"
  },
  "language_info": {
   "codemirror_mode": {
    "name": "ipython",
    "version": 3
   },
   "file_extension": ".py",
   "mimetype": "text/x-python",
   "name": "python",
   "nbconvert_exporter": "python",
   "pygments_lexer": "ipython3",
   "version": "3.10.15"
  }
 },
 "nbformat": 4,
 "nbformat_minor": 5
}
